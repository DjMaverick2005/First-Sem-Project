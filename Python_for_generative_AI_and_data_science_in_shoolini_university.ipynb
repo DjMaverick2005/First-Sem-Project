{
  "nbformat": 4,
  "nbformat_minor": 0,
  "metadata": {
    "colab": {
      "provenance": [],
      "include_colab_link": true
    },
    "kernelspec": {
      "name": "python3",
      "display_name": "Python 3"
    },
    "language_info": {
      "name": "python"
    }
  },
  "cells": [
    {
      "cell_type": "markdown",
      "metadata": {
        "id": "view-in-github",
        "colab_type": "text"
      },
      "source": [
        "<a href=\"https://colab.research.google.com/github/DjMaverick2005/First-Sem-Project/blob/main/Python_for_generative_AI_and_data_science_in_shoolini_university.ipynb\" target=\"_parent\"><img src=\"https://colab.research.google.com/assets/colab-badge.svg\" alt=\"Open In Colab\"/></a>"
      ]
    },
    {
      "cell_type": "code",
      "execution_count": null,
      "metadata": {
        "colab": {
          "base_uri": "https://localhost:8080/"
        },
        "id": "HCcUBA0dDgik",
        "outputId": "2c3a181e-fcc8-4ad1-fe2e-da5336bf9777"
      },
      "outputs": [
        {
          "output_type": "execute_result",
          "data": {
            "text/plain": [
              "10"
            ]
          },
          "metadata": {},
          "execution_count": 10
        }
      ],
      "source": [
        "x = 10\n",
        "x"
      ]
    },
    {
      "cell_type": "code",
      "source": [
        "print(x)"
      ],
      "metadata": {
        "colab": {
          "base_uri": "https://localhost:8080/"
        },
        "id": "P1XhTdXjE_Ht",
        "outputId": "89ed9005-97af-4504-eccc-74b3157dc86f"
      },
      "execution_count": null,
      "outputs": [
        {
          "output_type": "stream",
          "name": "stdout",
          "text": [
            "10\n"
          ]
        }
      ]
    },
    {
      "cell_type": "code",
      "source": [
        " #Rules for naming of variable"
      ],
      "metadata": {
        "id": "FaIthKGeFeHk"
      },
      "execution_count": null,
      "outputs": []
    },
    {
      "cell_type": "markdown",
      "source": [
        "# 1. Starting position of variable is letter or under score"
      ],
      "metadata": {
        "id": "29z994VFHtfr"
      }
    },
    {
      "cell_type": "code",
      "source": [
        "my_sub = \"Data science\"\n",
        "print(my_sub)"
      ],
      "metadata": {
        "colab": {
          "base_uri": "https://localhost:8080/"
        },
        "id": "PByW6gRzH7XW",
        "outputId": "3f96256c-3d90-402b-dc2c-daa1de5cf0a0"
      },
      "execution_count": null,
      "outputs": [
        {
          "output_type": "stream",
          "name": "stdout",
          "text": [
            "Data science\n"
          ]
        }
      ]
    },
    {
      "cell_type": "code",
      "source": [
        "_mycity = \"Solan\"\n",
        "print(_mycity)"
      ],
      "metadata": {
        "colab": {
          "base_uri": "https://localhost:8080/"
        },
        "id": "ELTSA7OnINE0",
        "outputId": "098d44d8-1803-47b3-9633-df990249b86d"
      },
      "execution_count": null,
      "outputs": [
        {
          "output_type": "stream",
          "name": "stdout",
          "text": [
            "Solan\n"
          ]
        }
      ]
    },
    {
      "cell_type": "markdown",
      "source": [
        "#2. Remaining part of variable are letter, underscore or number"
      ],
      "metadata": {
        "id": "EWNjbJ9PJTM_"
      }
    },
    {
      "cell_type": "code",
      "source": [
        "my_sub1 = \"Generative AI\"\n",
        "print(my_sub1)"
      ],
      "metadata": {
        "colab": {
          "base_uri": "https://localhost:8080/"
        },
        "id": "y71gmwpcIWJ_",
        "outputId": "4f1c91d0-bb7c-451a-9d23-43f45ff744a7"
      },
      "execution_count": null,
      "outputs": [
        {
          "output_type": "stream",
          "name": "stdout",
          "text": [
            "Generative AI\n"
          ]
        }
      ]
    },
    {
      "cell_type": "code",
      "source": [
        "mycity = \"shimla\"\n",
        "print(mycity)"
      ],
      "metadata": {
        "colab": {
          "base_uri": "https://localhost:8080/"
        },
        "id": "l5WTn5XMJ3Rc",
        "outputId": "7619a009-9af7-4d7f-8808-a022718f6167"
      },
      "execution_count": null,
      "outputs": [
        {
          "output_type": "stream",
          "name": "stdout",
          "text": [
            "shimla\n"
          ]
        }
      ]
    },
    {
      "cell_type": "code",
      "source": [
        "import keyword\n",
        "print(keyword.kwlist)"
      ],
      "metadata": {
        "colab": {
          "base_uri": "https://localhost:8080/"
        },
        "id": "KNyKysY0KBbO",
        "outputId": "76eb7b13-f70e-4442-8b2d-1e33ee8c3952"
      },
      "execution_count": null,
      "outputs": [
        {
          "output_type": "stream",
          "name": "stdout",
          "text": [
            "['False', 'None', 'True', 'and', 'as', 'assert', 'async', 'await', 'break', 'class', 'continue', 'def', 'del', 'elif', 'else', 'except', 'finally', 'for', 'from', 'global', 'if', 'import', 'in', 'is', 'lambda', 'nonlocal', 'not', 'or', 'pass', 'raise', 'return', 'try', 'while', 'with', 'yield']\n"
          ]
        }
      ]
    },
    {
      "cell_type": "code",
      "source": [
        "#operater\n",
        "# addition(+)\n",
        "2+2"
      ],
      "metadata": {
        "colab": {
          "base_uri": "https://localhost:8080/"
        },
        "id": "yLpTDU_bKgNA",
        "outputId": "42cd6fe9-8677-4261-e022-c982aec8915a"
      },
      "execution_count": null,
      "outputs": [
        {
          "output_type": "execute_result",
          "data": {
            "text/plain": [
              "4"
            ]
          },
          "metadata": {},
          "execution_count": 18
        }
      ]
    },
    {
      "cell_type": "code",
      "source": [
        "x = 2\n",
        "y = 2\n",
        "z = x+y\n",
        "print(z)"
      ],
      "metadata": {
        "colab": {
          "base_uri": "https://localhost:8080/"
        },
        "id": "NoYyZZxkLG_k",
        "outputId": "ffb1fce5-d0c5-4ffe-930e-d147599b395d"
      },
      "execution_count": null,
      "outputs": [
        {
          "output_type": "stream",
          "name": "stdout",
          "text": [
            "4\n"
          ]
        }
      ]
    },
    {
      "cell_type": "code",
      "source": [
        "#expontial(**)\n",
        "2**5"
      ],
      "metadata": {
        "colab": {
          "base_uri": "https://localhost:8080/"
        },
        "id": "KXxRDir1LNQO",
        "outputId": "6b0e3527-5363-4ea4-fa09-751cac666dd7"
      },
      "execution_count": null,
      "outputs": [
        {
          "output_type": "execute_result",
          "data": {
            "text/plain": [
              "32"
            ]
          },
          "metadata": {},
          "execution_count": 20
        }
      ]
    },
    {
      "cell_type": "code",
      "source": [
        "#modulus(%)\n",
        "5%2"
      ],
      "metadata": {
        "colab": {
          "base_uri": "https://localhost:8080/"
        },
        "id": "JPiWGGlPLaam",
        "outputId": "7ad2265e-5d53-49c5-b9ba-169ed3caa843"
      },
      "execution_count": null,
      "outputs": [
        {
          "output_type": "execute_result",
          "data": {
            "text/plain": [
              "1"
            ]
          },
          "metadata": {},
          "execution_count": 21
        }
      ]
    },
    {
      "cell_type": "code",
      "source": [
        "#division(/)\n",
        "4/2"
      ],
      "metadata": {
        "colab": {
          "base_uri": "https://localhost:8080/"
        },
        "id": "u62viqEoOEqx",
        "outputId": "dde50600-7b3d-4163-e70c-bf68cedb4a68"
      },
      "execution_count": null,
      "outputs": [
        {
          "output_type": "execute_result",
          "data": {
            "text/plain": [
              "2.0"
            ]
          },
          "metadata": {},
          "execution_count": 22
        }
      ]
    },
    {
      "cell_type": "code",
      "source": [
        "#floor division(//)\n",
        "5//2"
      ],
      "metadata": {
        "colab": {
          "base_uri": "https://localhost:8080/"
        },
        "id": "vHe2T22kOM_b",
        "outputId": "36f36e8e-a630-4cce-fc7e-97b7bab2c28a"
      },
      "execution_count": null,
      "outputs": [
        {
          "output_type": "execute_result",
          "data": {
            "text/plain": [
              "2"
            ]
          },
          "metadata": {},
          "execution_count": 23
        }
      ]
    },
    {
      "cell_type": "code",
      "source": [
        "5//2.2"
      ],
      "metadata": {
        "colab": {
          "base_uri": "https://localhost:8080/"
        },
        "id": "hOd8IyBDOWLr",
        "outputId": "be2d2b7a-725a-429c-c316-9d5033dcbb85"
      },
      "execution_count": null,
      "outputs": [
        {
          "output_type": "execute_result",
          "data": {
            "text/plain": [
              "2.0"
            ]
          },
          "metadata": {},
          "execution_count": 24
        }
      ]
    },
    {
      "cell_type": "code",
      "source": [
        "#assignment operater(=)\n",
        "x = 2\n",
        "print(x)"
      ],
      "metadata": {
        "colab": {
          "base_uri": "https://localhost:8080/"
        },
        "id": "MZdnokn5OeLq",
        "outputId": "5ad27321-27ec-4745-e4e5-5b1f93b02e00"
      },
      "execution_count": null,
      "outputs": [
        {
          "output_type": "stream",
          "name": "stdout",
          "text": [
            "2\n"
          ]
        }
      ]
    },
    {
      "cell_type": "code",
      "source": [
        "a = 20\n",
        "b = 10\n",
        "print(a==b)"
      ],
      "metadata": {
        "colab": {
          "base_uri": "https://localhost:8080/"
        },
        "id": "3BwEaku_OqJ3",
        "outputId": "e1dee885-148d-4114-9f78-9f87494f8811"
      },
      "execution_count": null,
      "outputs": [
        {
          "output_type": "stream",
          "name": "stdout",
          "text": [
            "False\n"
          ]
        }
      ]
    },
    {
      "cell_type": "code",
      "source": [
        "print(a!=b)"
      ],
      "metadata": {
        "colab": {
          "base_uri": "https://localhost:8080/"
        },
        "id": "UTxfE_RqSrDq",
        "outputId": "b9e4181f-58c5-4c1b-a8a5-12214f7c1bf2"
      },
      "execution_count": null,
      "outputs": [
        {
          "output_type": "stream",
          "name": "stdout",
          "text": [
            "True\n"
          ]
        }
      ]
    },
    {
      "cell_type": "code",
      "source": [
        "print(a>b)"
      ],
      "metadata": {
        "colab": {
          "base_uri": "https://localhost:8080/"
        },
        "id": "vfGwHTDlS3D6",
        "outputId": "dc5d4f07-9d9a-492f-9f1a-d2057b702e32"
      },
      "execution_count": null,
      "outputs": [
        {
          "output_type": "stream",
          "name": "stdout",
          "text": [
            "True\n"
          ]
        }
      ]
    },
    {
      "cell_type": "code",
      "source": [
        "print(a<b)"
      ],
      "metadata": {
        "colab": {
          "base_uri": "https://localhost:8080/"
        },
        "id": "bdGa8sssS5bx",
        "outputId": "82d046a3-c2ca-40e4-d009-6e5360ad4a1b"
      },
      "execution_count": null,
      "outputs": [
        {
          "output_type": "stream",
          "name": "stdout",
          "text": [
            "False\n"
          ]
        }
      ]
    },
    {
      "cell_type": "code",
      "source": [
        "x = 10\n",
        "y = 10\n",
        "print(x>=y)"
      ],
      "metadata": {
        "colab": {
          "base_uri": "https://localhost:8080/"
        },
        "id": "SSmJjdjDS7VB",
        "outputId": "4f886772-49f6-4be4-f7f4-3c8d21097079"
      },
      "execution_count": null,
      "outputs": [
        {
          "output_type": "stream",
          "name": "stdout",
          "text": [
            "True\n"
          ]
        }
      ]
    },
    {
      "cell_type": "code",
      "source": [
        "print(x<=y)"
      ],
      "metadata": {
        "colab": {
          "base_uri": "https://localhost:8080/"
        },
        "id": "1QEI7i4CTmuz",
        "outputId": "cd2e2d9b-3dcf-4f5d-b540-49ebfe9d8be6"
      },
      "execution_count": null,
      "outputs": [
        {
          "output_type": "stream",
          "name": "stdout",
          "text": [
            "True\n"
          ]
        }
      ]
    },
    {
      "cell_type": "code",
      "source": [
        "#logical operater\n",
        "x = 5\n",
        "print(x>2 and x<10)"
      ],
      "metadata": {
        "colab": {
          "base_uri": "https://localhost:8080/"
        },
        "id": "fsrp87Z_Tqm-",
        "outputId": "3f5427e3-742e-4d0d-c5bb-dd1444e0323f"
      },
      "execution_count": null,
      "outputs": [
        {
          "output_type": "stream",
          "name": "stdout",
          "text": [
            "True\n"
          ]
        }
      ]
    },
    {
      "cell_type": "code",
      "source": [
        "print(x>2 and x>10)"
      ],
      "metadata": {
        "colab": {
          "base_uri": "https://localhost:8080/"
        },
        "id": "Jqx03uV2Ug6_",
        "outputId": "21425e32-c246-422c-dbc2-c77a50ed7782"
      },
      "execution_count": null,
      "outputs": [
        {
          "output_type": "stream",
          "name": "stdout",
          "text": [
            "False\n"
          ]
        }
      ]
    },
    {
      "cell_type": "code",
      "source": [
        "a = 10\n",
        "print(x>2 or x>10)"
      ],
      "metadata": {
        "colab": {
          "base_uri": "https://localhost:8080/"
        },
        "id": "IhgSUWpKUn47",
        "outputId": "88d2583c-0334-49c9-826a-b8ffed0e3cdf"
      },
      "execution_count": null,
      "outputs": [
        {
          "output_type": "stream",
          "name": "stdout",
          "text": [
            "True\n"
          ]
        }
      ]
    },
    {
      "cell_type": "code",
      "source": [
        "a = 10\n",
        "print(not(x>2 or x>10))"
      ],
      "metadata": {
        "colab": {
          "base_uri": "https://localhost:8080/"
        },
        "id": "kJ4usnaxU0TA",
        "outputId": "9bf4f1b5-efe2-4ea9-c14e-b7065242ca9a"
      },
      "execution_count": null,
      "outputs": [
        {
          "output_type": "stream",
          "name": "stdout",
          "text": [
            "False\n"
          ]
        }
      ]
    },
    {
      "cell_type": "code",
      "source": [
        "my_city = \"Solan\"\n",
        "\"S\" in my_city"
      ],
      "metadata": {
        "colab": {
          "base_uri": "https://localhost:8080/"
        },
        "id": "S8y_w43dWglP",
        "outputId": "3597c3a6-0c82-4e00-99cf-a42fa14b24d5"
      },
      "execution_count": null,
      "outputs": [
        {
          "output_type": "execute_result",
          "data": {
            "text/plain": [
              "True"
            ]
          },
          "metadata": {},
          "execution_count": 36
        }
      ]
    },
    {
      "cell_type": "code",
      "source": [
        "\"Z\" in my_city"
      ],
      "metadata": {
        "colab": {
          "base_uri": "https://localhost:8080/"
        },
        "id": "hxjcggKgWmJ_",
        "outputId": "8cf41822-2599-41e3-a3f8-2903586e9bf1"
      },
      "execution_count": null,
      "outputs": [
        {
          "output_type": "execute_result",
          "data": {
            "text/plain": [
              "False"
            ]
          },
          "metadata": {},
          "execution_count": 37
        }
      ]
    },
    {
      "cell_type": "code",
      "source": [
        "\"S\" not in my_city"
      ],
      "metadata": {
        "colab": {
          "base_uri": "https://localhost:8080/"
        },
        "id": "xvKSzmK3Wq3f",
        "outputId": "817cbb62-e833-4357-8463-864d3703e9f4"
      },
      "execution_count": null,
      "outputs": [
        {
          "output_type": "execute_result",
          "data": {
            "text/plain": [
              "False"
            ]
          },
          "metadata": {},
          "execution_count": 38
        }
      ]
    },
    {
      "cell_type": "code",
      "source": [
        "\"Z\" not in my_city"
      ],
      "metadata": {
        "colab": {
          "base_uri": "https://localhost:8080/"
        },
        "id": "RXs99BdSWyUL",
        "outputId": "90e34925-2bc3-4d80-c26f-57fbd33698f1"
      },
      "execution_count": null,
      "outputs": [
        {
          "output_type": "execute_result",
          "data": {
            "text/plain": [
              "True"
            ]
          },
          "metadata": {},
          "execution_count": 39
        }
      ]
    },
    {
      "cell_type": "code",
      "source": [],
      "metadata": {
        "id": "ETQi_4t5W2bT"
      },
      "execution_count": null,
      "outputs": []
    },
    {
      "cell_type": "code",
      "source": [
        "my_city = 'Solan'\n",
        "type(my_city)"
      ],
      "metadata": {
        "colab": {
          "base_uri": "https://localhost:8080/"
        },
        "id": "uwGpKxXimWYZ",
        "outputId": "bb78183f-9770-4fba-931c-8266404cb85c"
      },
      "execution_count": null,
      "outputs": [
        {
          "output_type": "execute_result",
          "data": {
            "text/plain": [
              "str"
            ]
          },
          "metadata": {},
          "execution_count": 40
        }
      ]
    },
    {
      "cell_type": "code",
      "source": [
        "my_capital = \"Shimla\"\n",
        "type(my_capital)"
      ],
      "metadata": {
        "colab": {
          "base_uri": "https://localhost:8080/"
        },
        "id": "Y-J1LY4Nma4u",
        "outputId": "64e775d5-60cf-4f1d-d3ec-5888ccd50c44"
      },
      "execution_count": null,
      "outputs": [
        {
          "output_type": "execute_result",
          "data": {
            "text/plain": [
              "str"
            ]
          },
          "metadata": {},
          "execution_count": 41
        }
      ]
    },
    {
      "cell_type": "code",
      "source": [
        "my_state = '''Himachal Pradesh'''\n",
        "type(my_state)"
      ],
      "metadata": {
        "colab": {
          "base_uri": "https://localhost:8080/"
        },
        "id": "JuaH27jtmlPT",
        "outputId": "466776d9-27b6-4aa5-cabf-6e9273b62a0e"
      },
      "execution_count": null,
      "outputs": [
        {
          "output_type": "execute_result",
          "data": {
            "text/plain": [
              "str"
            ]
          },
          "metadata": {},
          "execution_count": 42
        }
      ]
    },
    {
      "cell_type": "code",
      "source": [
        "my_city"
      ],
      "metadata": {
        "colab": {
          "base_uri": "https://localhost:8080/"
        },
        "id": "VfXNjdpgm4uz",
        "outputId": "e31e287b-2d51-4ee3-8483-a68ef196b65f"
      },
      "execution_count": null,
      "outputs": [
        {
          "output_type": "execute_result",
          "data": {
            "text/plain": [
              "'Solan'"
            ],
            "application/vnd.google.colaboratory.intrinsic+json": {
              "type": "string"
            }
          },
          "metadata": {},
          "execution_count": 43
        }
      ]
    },
    {
      "cell_type": "code",
      "source": [
        "len(my_city)"
      ],
      "metadata": {
        "colab": {
          "base_uri": "https://localhost:8080/"
        },
        "id": "qEEX26g7nBaR",
        "outputId": "03c9ed09-469e-441e-a138-f404ef33006e"
      },
      "execution_count": null,
      "outputs": [
        {
          "output_type": "execute_result",
          "data": {
            "text/plain": [
              "5"
            ]
          },
          "metadata": {},
          "execution_count": 44
        }
      ]
    },
    {
      "cell_type": "code",
      "source": [
        "#concatenation---addition of list\n",
        "list1 = [34, 67, 89]\n",
        "list2 = [99, 87, 65]\n",
        "my_list = list1 + list2\n",
        "print(my_list)"
      ],
      "metadata": {
        "id": "ymzjiE-GnEgT",
        "colab": {
          "base_uri": "https://localhost:8080/"
        },
        "outputId": "94274f0c-231a-4f65-a906-2188ae29cae9"
      },
      "execution_count": null,
      "outputs": [
        {
          "output_type": "stream",
          "name": "stdout",
          "text": [
            "[34, 67, 89, 99, 87, 65]\n"
          ]
        }
      ]
    },
    {
      "cell_type": "code",
      "source": [
        "#append() -add item into the list at end\n",
        "my_list = [89, 76, 54]\n",
        "my_list.append(100)\n",
        "print(my_list)"
      ],
      "metadata": {
        "colab": {
          "base_uri": "https://localhost:8080/"
        },
        "id": "o3wNNwllKAQO",
        "outputId": "6e83f031-0d7e-4575-920e-69a3b0cae27b"
      },
      "execution_count": null,
      "outputs": [
        {
          "output_type": "stream",
          "name": "stdout",
          "text": [
            "[89, 76, 54, 100]\n"
          ]
        }
      ]
    },
    {
      "cell_type": "code",
      "source": [
        "my_list"
      ],
      "metadata": {
        "colab": {
          "base_uri": "https://localhost:8080/"
        },
        "id": "zm67b7ylK2WI",
        "outputId": "235788ab-1121-47e6-e711-5ca91ce23db1"
      },
      "execution_count": null,
      "outputs": [
        {
          "output_type": "execute_result",
          "data": {
            "text/plain": [
              "[89, 76, 54, 100]"
            ]
          },
          "metadata": {},
          "execution_count": 47
        }
      ]
    },
    {
      "cell_type": "code",
      "source": [
        "list1 = [122, 5657, 90]\n",
        "my_list.extend(list1)\n",
        "print(my_list)"
      ],
      "metadata": {
        "colab": {
          "base_uri": "https://localhost:8080/"
        },
        "id": "a88Tfcb9LRC7",
        "outputId": "d774311a-4fc5-45de-8d65-5d65c9c9d478"
      },
      "execution_count": null,
      "outputs": [
        {
          "output_type": "stream",
          "name": "stdout",
          "text": [
            "[89, 76, 54, 100, 122, 5657, 90]\n"
          ]
        }
      ]
    },
    {
      "cell_type": "code",
      "source": [
        "#pop --- remove the item from the list with the help of index\n",
        "my_list = [23, 45, 67, 80]\n",
        "my_list.pop()"
      ],
      "metadata": {
        "colab": {
          "base_uri": "https://localhost:8080/"
        },
        "id": "KEuw2LNrLhaq",
        "outputId": "4049ab51-cacd-4a9d-9f7b-27676aa817e0"
      },
      "execution_count": null,
      "outputs": [
        {
          "output_type": "execute_result",
          "data": {
            "text/plain": [
              "80"
            ]
          },
          "metadata": {},
          "execution_count": 49
        }
      ]
    },
    {
      "cell_type": "code",
      "source": [
        "print(my_list)"
      ],
      "metadata": {
        "colab": {
          "base_uri": "https://localhost:8080/"
        },
        "id": "CgVRZk67MRPp",
        "outputId": "c6bdb1b0-8a15-43ff-f102-5e345d0d4a4a"
      },
      "execution_count": null,
      "outputs": [
        {
          "output_type": "stream",
          "name": "stdout",
          "text": [
            "[23, 45, 67]\n"
          ]
        }
      ]
    },
    {
      "cell_type": "code",
      "source": [
        "my_list.pop(0)"
      ],
      "metadata": {
        "colab": {
          "base_uri": "https://localhost:8080/"
        },
        "id": "mYXQ1XaAMTDF",
        "outputId": "68491a6c-8b6f-417d-eb05-1432fa3c3dcc"
      },
      "execution_count": null,
      "outputs": [
        {
          "output_type": "execute_result",
          "data": {
            "text/plain": [
              "23"
            ]
          },
          "metadata": {},
          "execution_count": 51
        }
      ]
    },
    {
      "cell_type": "code",
      "source": [
        "my_list"
      ],
      "metadata": {
        "colab": {
          "base_uri": "https://localhost:8080/"
        },
        "id": "5sg5BDUhMZgd",
        "outputId": "df0ddf59-5495-47be-f3ae-9c9424a55209"
      },
      "execution_count": null,
      "outputs": [
        {
          "output_type": "execute_result",
          "data": {
            "text/plain": [
              "[45, 67]"
            ]
          },
          "metadata": {},
          "execution_count": 52
        }
      ]
    },
    {
      "cell_type": "code",
      "source": [
        "my_list = [100, 445, 78, 90]\n",
        "my_list.remove(100)\n",
        "my_list"
      ],
      "metadata": {
        "colab": {
          "base_uri": "https://localhost:8080/"
        },
        "id": "yRVGFXFcMgjQ",
        "outputId": "67eca741-262a-46dc-8bf0-6204f846ce23"
      },
      "execution_count": null,
      "outputs": [
        {
          "output_type": "execute_result",
          "data": {
            "text/plain": [
              "[445, 78, 90]"
            ]
          },
          "metadata": {},
          "execution_count": 53
        }
      ]
    },
    {
      "cell_type": "code",
      "source": [
        "my_list = [234, 789, 67, 45, 67, 89, 67]\n",
        "my_list.index(67, 3,6)"
      ],
      "metadata": {
        "colab": {
          "base_uri": "https://localhost:8080/"
        },
        "id": "xVot7kG1NLb5",
        "outputId": "bf70fd4e-bcce-4ddd-f481-4d5bbb296e1a"
      },
      "execution_count": null,
      "outputs": [
        {
          "output_type": "execute_result",
          "data": {
            "text/plain": [
              "4"
            ]
          },
          "metadata": {},
          "execution_count": 54
        }
      ]
    },
    {
      "cell_type": "code",
      "source": [
        "my_list = [3, 5, 6, 3, 4, 2, 1]\n",
        "my_list.sort(reverse = True)\n",
        "my_list"
      ],
      "metadata": {
        "colab": {
          "base_uri": "https://localhost:8080/"
        },
        "id": "hmekZQDoNi8F",
        "outputId": "c078ae60-b591-47b0-c1a4-5967cf7c54b5"
      },
      "execution_count": null,
      "outputs": [
        {
          "output_type": "execute_result",
          "data": {
            "text/plain": [
              "[6, 5, 4, 3, 3, 2, 1]"
            ]
          },
          "metadata": {},
          "execution_count": 55
        }
      ]
    },
    {
      "cell_type": "code",
      "source": [
        "list1 = [1, 2, 3]\n",
        "list2 = [4, 5, 6]\n",
        "list3 = [7, 8, 9]\n",
        "my_list = [list1, list2, list3]\n",
        "print(my_list)"
      ],
      "metadata": {
        "colab": {
          "base_uri": "https://localhost:8080/"
        },
        "id": "bBhxWjIAOptm",
        "outputId": "2622c49c-38c2-4ca6-c413-f4269355d78d"
      },
      "execution_count": null,
      "outputs": [
        {
          "output_type": "stream",
          "name": "stdout",
          "text": [
            "[[1, 2, 3], [4, 5, 6], [7, 8, 9]]\n"
          ]
        }
      ]
    },
    {
      "cell_type": "code",
      "source": [
        "my_list[1][1]"
      ],
      "metadata": {
        "colab": {
          "base_uri": "https://localhost:8080/"
        },
        "id": "h36TT2G1Pg46",
        "outputId": "d4ad42c2-4054-40d3-f775-77aa14828b36"
      },
      "execution_count": null,
      "outputs": [
        {
          "output_type": "execute_result",
          "data": {
            "text/plain": [
              "5"
            ]
          },
          "metadata": {},
          "execution_count": 57
        }
      ]
    },
    {
      "cell_type": "code",
      "source": [
        "my_list[-2][-2]"
      ],
      "metadata": {
        "colab": {
          "base_uri": "https://localhost:8080/"
        },
        "id": "Xt0ic1JWRDNZ",
        "outputId": "21d13787-23dc-48fa-ecc8-e19286439816"
      },
      "execution_count": null,
      "outputs": [
        {
          "output_type": "execute_result",
          "data": {
            "text/plain": [
              "5"
            ]
          },
          "metadata": {},
          "execution_count": 58
        }
      ]
    },
    {
      "cell_type": "code",
      "source": [
        "my_tuple = (1, 2, 3)\n",
        "type(my_tuple)"
      ],
      "metadata": {
        "colab": {
          "base_uri": "https://localhost:8080/"
        },
        "id": "G5DOB8P3Rj0g",
        "outputId": "2b33c341-ed8a-40b4-fa8d-364a0eda33ce"
      },
      "execution_count": null,
      "outputs": [
        {
          "output_type": "execute_result",
          "data": {
            "text/plain": [
              "tuple"
            ]
          },
          "metadata": {},
          "execution_count": 59
        }
      ]
    },
    {
      "cell_type": "code",
      "source": [
        "my_tuple = (1, 2, 3)\n",
        "type(my_tuple)"
      ],
      "metadata": {
        "id": "ajFK5AjESBeK",
        "colab": {
          "base_uri": "https://localhost:8080/"
        },
        "outputId": "ca8f0f5d-003f-4199-8097-8c61184ee043"
      },
      "execution_count": null,
      "outputs": [
        {
          "output_type": "execute_result",
          "data": {
            "text/plain": [
              "tuple"
            ]
          },
          "metadata": {},
          "execution_count": 60
        }
      ]
    },
    {
      "cell_type": "code",
      "source": [
        "x = 1, 2, 3\n",
        "type(x)"
      ],
      "metadata": {
        "colab": {
          "base_uri": "https://localhost:8080/"
        },
        "id": "pMYqMzlapkp8",
        "outputId": "45896a8d-5f8a-4feb-c757-2b9a11c3258c"
      },
      "execution_count": null,
      "outputs": [
        {
          "output_type": "execute_result",
          "data": {
            "text/plain": [
              "tuple"
            ]
          },
          "metadata": {},
          "execution_count": 61
        }
      ]
    },
    {
      "cell_type": "code",
      "source": [
        "y = ()\n",
        "type(y)"
      ],
      "metadata": {
        "colab": {
          "base_uri": "https://localhost:8080/"
        },
        "id": "j3SxAPVhpoP7",
        "outputId": "c5231495-e65f-499a-a75b-d843fda4dd92"
      },
      "execution_count": null,
      "outputs": [
        {
          "output_type": "execute_result",
          "data": {
            "text/plain": [
              "tuple"
            ]
          },
          "metadata": {},
          "execution_count": 62
        }
      ]
    },
    {
      "cell_type": "code",
      "source": [
        "z = (True)\n",
        "type(z)"
      ],
      "metadata": {
        "colab": {
          "base_uri": "https://localhost:8080/"
        },
        "id": "LXcEozZWptbK",
        "outputId": "33175a60-08b6-4f6b-c0f3-74117fd979af"
      },
      "execution_count": null,
      "outputs": [
        {
          "output_type": "execute_result",
          "data": {
            "text/plain": [
              "bool"
            ]
          },
          "metadata": {},
          "execution_count": 63
        }
      ]
    },
    {
      "cell_type": "code",
      "source": [
        "a = (\"solan\",)\n",
        "type(a)"
      ],
      "metadata": {
        "colab": {
          "base_uri": "https://localhost:8080/"
        },
        "id": "Yf0n8GdRpzO4",
        "outputId": "523b62b9-3385-4dd9-e81d-55f703b2d9c6"
      },
      "execution_count": null,
      "outputs": [
        {
          "output_type": "execute_result",
          "data": {
            "text/plain": [
              "tuple"
            ]
          },
          "metadata": {},
          "execution_count": 64
        }
      ]
    },
    {
      "cell_type": "code",
      "source": [
        "my_tuple1 = (\"apple\", 3.24, 8, True, None) #hetrogenius\n",
        "type(my_tuple1)"
      ],
      "metadata": {
        "colab": {
          "base_uri": "https://localhost:8080/"
        },
        "id": "kBCu40lQqpXu",
        "outputId": "c83abf7e-a203-46e7-c34a-b40d5fce844d"
      },
      "execution_count": null,
      "outputs": [
        {
          "output_type": "execute_result",
          "data": {
            "text/plain": [
              "tuple"
            ]
          },
          "metadata": {},
          "execution_count": 65
        }
      ]
    },
    {
      "cell_type": "code",
      "source": [
        "my_tuple2 = (89, 78, 65, 34)\n",
        "type(my_tuple2)"
      ],
      "metadata": {
        "colab": {
          "base_uri": "https://localhost:8080/"
        },
        "id": "4ej2VEYmq_5g",
        "outputId": "a39b154a-3344-42b7-96db-9727b253c8dc"
      },
      "execution_count": null,
      "outputs": [
        {
          "output_type": "execute_result",
          "data": {
            "text/plain": [
              "tuple"
            ]
          },
          "metadata": {},
          "execution_count": 66
        }
      ]
    },
    {
      "cell_type": "code",
      "source": [
        "state_list = [\"HP\", \"UP\", \"MP\", \"PUN\", \"DELHI\"]\n",
        "capital_list = [\"SHM\", \"LK\", \"BH\", \"CHD\", \"ND\"]\n",
        "x = zip(state_list, capital_list)\n",
        "x"
      ],
      "metadata": {
        "colab": {
          "base_uri": "https://localhost:8080/"
        },
        "id": "w1TI1yB6rGcJ",
        "outputId": "ffd9c2de-ef10-48a4-86e9-c56b0497d52e"
      },
      "execution_count": null,
      "outputs": [
        {
          "output_type": "execute_result",
          "data": {
            "text/plain": [
              "<zip at 0x7b8aab4d6bc0>"
            ]
          },
          "metadata": {},
          "execution_count": 67
        }
      ]
    },
    {
      "cell_type": "code",
      "source": [
        "list(x)"
      ],
      "metadata": {
        "colab": {
          "base_uri": "https://localhost:8080/"
        },
        "id": "zHhvFmMRrv54",
        "outputId": "b11d84b7-dd96-4bb2-abea-a4a9922927e1"
      },
      "execution_count": null,
      "outputs": [
        {
          "output_type": "execute_result",
          "data": {
            "text/plain": [
              "[('HP', 'SHM'), ('UP', 'LK'), ('MP', 'BH'), ('PUN', 'CHD'), ('DELHI', 'ND')]"
            ]
          },
          "metadata": {},
          "execution_count": 68
        }
      ]
    },
    {
      "cell_type": "code",
      "source": [
        "my_tuple = (45, 78, 45, 89, 70)\n",
        "my_tuple.count(45) #this method count number of perticular item"
      ],
      "metadata": {
        "colab": {
          "base_uri": "https://localhost:8080/"
        },
        "id": "ykNdRXJwr19C",
        "outputId": "2ea2b076-53c9-4c25-e884-826eaccf0477"
      },
      "execution_count": null,
      "outputs": [
        {
          "output_type": "execute_result",
          "data": {
            "text/plain": [
              "2"
            ]
          },
          "metadata": {},
          "execution_count": 69
        }
      ]
    },
    {
      "cell_type": "code",
      "source": [
        "my_tuple.index(78) #this method return index of item"
      ],
      "metadata": {
        "colab": {
          "base_uri": "https://localhost:8080/"
        },
        "id": "8O_PkU80scZa",
        "outputId": "f39880d2-50fa-4d47-a356-7d543f6be230"
      },
      "execution_count": null,
      "outputs": [
        {
          "output_type": "execute_result",
          "data": {
            "text/plain": [
              "1"
            ]
          },
          "metadata": {},
          "execution_count": 70
        }
      ]
    },
    {
      "cell_type": "code",
      "source": [
        "#concatenation--addition of data structure\n",
        "tuple1 = (1, 3, 4)\n",
        "tuple2 = (5, 6, 7)\n",
        "tuple3 = tuple1 + tuple2\n",
        "print(tuple3)"
      ],
      "metadata": {
        "colab": {
          "base_uri": "https://localhost:8080/"
        },
        "id": "4RpYYlPmsiUH",
        "outputId": "3560ec28-e9ba-4908-c5ca-72624d6488b9"
      },
      "execution_count": null,
      "outputs": [
        {
          "output_type": "stream",
          "name": "stdout",
          "text": [
            "(1, 3, 4, 5, 6, 7)\n"
          ]
        }
      ]
    },
    {
      "cell_type": "code",
      "source": [
        "y = list(tuple3)\n",
        "y"
      ],
      "metadata": {
        "colab": {
          "base_uri": "https://localhost:8080/"
        },
        "id": "MrkHjJeZt0hE",
        "outputId": "c157e270-119d-4f49-9d46-6b91640df00e"
      },
      "execution_count": null,
      "outputs": [
        {
          "output_type": "execute_result",
          "data": {
            "text/plain": [
              "[1, 3, 4, 5, 6, 7]"
            ]
          },
          "metadata": {},
          "execution_count": 72
        }
      ]
    },
    {
      "cell_type": "code",
      "source": [
        "tuple(y)"
      ],
      "metadata": {
        "colab": {
          "base_uri": "https://localhost:8080/"
        },
        "id": "MINi-05it6sH",
        "outputId": "b5e557fd-d8c0-4d5f-bea4-012d3a41c041"
      },
      "execution_count": null,
      "outputs": [
        {
          "output_type": "execute_result",
          "data": {
            "text/plain": [
              "(1, 3, 4, 5, 6, 7)"
            ]
          },
          "metadata": {},
          "execution_count": 73
        }
      ]
    },
    {
      "cell_type": "code",
      "source": [
        "#immutability\n",
        "my_tuple = (1, 2, 3)\n",
        "my_tuple[0] = 10"
      ],
      "metadata": {
        "id": "5hl3BOAitEKd"
      },
      "execution_count": null,
      "outputs": []
    },
    {
      "cell_type": "code",
      "source": [
        "#set -- collection of unique number of item, non empty set represented by curly braces and item seprated by comma\n",
        "my_set = {6, 8, 9, 10}\n",
        "type(my_set)"
      ],
      "metadata": {
        "id": "4wHSDkRkubXA"
      },
      "execution_count": null,
      "outputs": []
    },
    {
      "cell_type": "code",
      "source": [
        "a = \" \"\n",
        "type(a)"
      ],
      "metadata": {
        "id": "jlmCRuQ4vGNB"
      },
      "execution_count": null,
      "outputs": []
    },
    {
      "cell_type": "code",
      "source": [
        "b = []\n",
        "type(b)"
      ],
      "metadata": {
        "id": "CFLXDZj_vPWk"
      },
      "execution_count": null,
      "outputs": []
    },
    {
      "cell_type": "code",
      "source": [
        "c = ()\n",
        "type(c)"
      ],
      "metadata": {
        "id": "aSEFMNv7vSaX"
      },
      "execution_count": null,
      "outputs": []
    },
    {
      "cell_type": "code",
      "source": [
        "d = {}\n",
        "type(d)"
      ],
      "metadata": {
        "id": "E9YeDyBSvWVH"
      },
      "execution_count": null,
      "outputs": []
    },
    {
      "cell_type": "code",
      "source": [
        "empty_set = set()\n",
        "type(empty_set)"
      ],
      "metadata": {
        "id": "V7i0czqIvaGD"
      },
      "execution_count": null,
      "outputs": []
    },
    {
      "cell_type": "code",
      "source": [
        "a = set()\n",
        "a.add(10)\n",
        "a"
      ],
      "metadata": {
        "id": "EUeeBh8_vmLf"
      },
      "execution_count": null,
      "outputs": []
    },
    {
      "cell_type": "code",
      "source": [
        "a.add(20)\n",
        "a"
      ],
      "metadata": {
        "id": "tIwsJ44NwdF9"
      },
      "execution_count": null,
      "outputs": []
    },
    {
      "cell_type": "code",
      "source": [
        "a.add(20)\n",
        "a"
      ],
      "metadata": {
        "id": "wQ-j0pziwlid"
      },
      "execution_count": null,
      "outputs": []
    },
    {
      "cell_type": "code",
      "source": [
        "my_list = [56, 90, 78, 23, 12]\n",
        "print(my_list)"
      ],
      "metadata": {
        "id": "zLUuzOTCwqmM"
      },
      "execution_count": null,
      "outputs": []
    },
    {
      "cell_type": "code",
      "source": [
        "my_set = {56, 90, 78, 23, 12}\n",
        "print(my_set)"
      ],
      "metadata": {
        "id": "0apuhRW6w5EH"
      },
      "execution_count": null,
      "outputs": []
    },
    {
      "cell_type": "code",
      "source": [
        "my_set = {89, 45, 67, 78}\n",
        "my_set.update((100, 200, 50))\n",
        "print(my_set)"
      ],
      "metadata": {
        "id": "9L1n-9qOxEGU"
      },
      "execution_count": null,
      "outputs": []
    },
    {
      "cell_type": "code",
      "source": [
        "my_set.remove(67)\n",
        "my_set"
      ],
      "metadata": {
        "id": "6hrBDLFkQatG"
      },
      "execution_count": null,
      "outputs": []
    },
    {
      "cell_type": "code",
      "source": [
        "#union--all unique number of item of the set\n",
        "A= {1, 2, 3, 4, 5}\n",
        "B = {4, 5, 6, 7, 8}\n",
        "A.union(B)"
      ],
      "metadata": {
        "id": "-cygEOD_RJmu"
      },
      "execution_count": null,
      "outputs": []
    },
    {
      "cell_type": "code",
      "source": [
        "A.intersection(B) #comman item of the set"
      ],
      "metadata": {
        "id": "hknLRuFgRpIg"
      },
      "execution_count": null,
      "outputs": []
    },
    {
      "cell_type": "code",
      "source": [
        "#difference\n",
        "A.difference(B)"
      ],
      "metadata": {
        "id": "0Oa40aejRu7E"
      },
      "execution_count": null,
      "outputs": []
    },
    {
      "cell_type": "code",
      "source": [
        "B.difference(A)"
      ],
      "metadata": {
        "id": "78Gcs0QqSGVb"
      },
      "execution_count": null,
      "outputs": []
    },
    {
      "cell_type": "code",
      "source": [
        "A.symmetric_difference(B)"
      ],
      "metadata": {
        "id": "0sspeg7zSJIi"
      },
      "execution_count": null,
      "outputs": []
    },
    {
      "cell_type": "code",
      "source": [
        "#dictionary ---collection of key value pair,enclosed by curly braces({})\n",
        "#key value pair is known as item and every item seprated by comma(,)\n",
        "#key and value seprated by colan(:)\n",
        "my_dict = {\"HP\":\"SHM\", \"UP\":\"LK\", \"MP\":\"BH\"}\n",
        "type(my_dict)"
      ],
      "metadata": {
        "id": "bwlRLpCNS0IB"
      },
      "execution_count": null,
      "outputs": []
    },
    {
      "cell_type": "code",
      "source": [
        "#dictionay---it is mutable\n",
        "#key --it is immutable\n",
        "#value -- it is mutable or immutable"
      ],
      "metadata": {
        "id": "WQucAko5TzjJ"
      },
      "execution_count": null,
      "outputs": []
    },
    {
      "cell_type": "code",
      "source": [
        "my_dict = {\"HP\":\"SHM\", \"UP\":\"LK\", \"MP\":\"BH\"}\n",
        "type(my_dict)"
      ],
      "metadata": {
        "id": "1pmeVHdeUzVr"
      },
      "execution_count": null,
      "outputs": []
    },
    {
      "cell_type": "code",
      "source": [
        "my_dict = {\"Name\" :\"Jagat\", \"Marks_list\": [67, 87, 56, 90]}\n",
        "print(my_dict)"
      ],
      "metadata": {
        "id": "sMdX0io6U_5-"
      },
      "execution_count": null,
      "outputs": []
    },
    {
      "cell_type": "code",
      "source": [
        "my_dict = {\"Name\" :\"Jagat\", \"Marks_list\": [67, 87, 56, 90]}\n",
        "print(my_dict)"
      ],
      "metadata": {
        "id": "oStt_aW6VTHb"
      },
      "execution_count": null,
      "outputs": []
    },
    {
      "cell_type": "code",
      "source": [
        "my_dict.update({\"college\":\"IIT Mandi\"})\n",
        "print(my_dict)"
      ],
      "metadata": {
        "id": "CRCcS7LyVmi_"
      },
      "execution_count": null,
      "outputs": []
    },
    {
      "cell_type": "code",
      "source": [
        "#keys()-- this method return the keys of your dictionary\n",
        "list(my_dict.keys())"
      ],
      "metadata": {
        "id": "-BKdLzy2Vvow"
      },
      "execution_count": null,
      "outputs": []
    },
    {
      "cell_type": "code",
      "source": [
        "#Values()-- this method return the values of your dictionary\n",
        "list(my_dict.values())"
      ],
      "metadata": {
        "id": "dZFAKwz7WOcV"
      },
      "execution_count": null,
      "outputs": []
    },
    {
      "cell_type": "code",
      "source": [
        "list(my_dict.items())"
      ],
      "metadata": {
        "id": "j7VVrOrsWhmv"
      },
      "execution_count": null,
      "outputs": []
    },
    {
      "cell_type": "code",
      "source": [
        "my_dict[\"Name\"]"
      ],
      "metadata": {
        "id": "lxNNDOWYW37M"
      },
      "execution_count": null,
      "outputs": []
    },
    {
      "cell_type": "code",
      "source": [
        "my_dict.get(\"City\", \"Not found\")"
      ],
      "metadata": {
        "id": "WEirjz3VXaGX"
      },
      "execution_count": null,
      "outputs": []
    },
    {
      "cell_type": "code",
      "source": [
        "#if condition:\n",
        "     #Code\n",
        "#elif condition:\n",
        "      #code\n",
        "#else:\n",
        "  #code"
      ],
      "metadata": {
        "id": "6PPpV8VuXhqM"
      },
      "execution_count": null,
      "outputs": []
    },
    {
      "cell_type": "code",
      "source": [
        "age = int(input(\"Enter your age :\"))\n",
        "if age <=21:\n",
        "  print(\"You are too young for marriage\")\n",
        "elif age >= 60:\n",
        "  print(\"You are too old for marriage\")\n",
        "else:\n",
        "  print(\"we will find your perfect match\")\n"
      ],
      "metadata": {
        "id": "itkZlEVIYmtQ"
      },
      "execution_count": null,
      "outputs": []
    },
    {
      "cell_type": "code",
      "source": [
        "#for loop -- apply on sequence(list, tuple, string, range())\n",
        "my_city = \"Solan\"\n",
        "for char in my_city:\n",
        "  print(char)"
      ],
      "metadata": {
        "id": "9As88qZVacXb"
      },
      "execution_count": null,
      "outputs": []
    },
    {
      "cell_type": "code",
      "source": [
        "#indexing\n",
        "for i in range(0, 5, 1):\n",
        "  print(i)"
      ],
      "metadata": {
        "id": "7IAw-ojoa9us"
      },
      "execution_count": null,
      "outputs": []
    },
    {
      "cell_type": "code",
      "source": [
        "for i in range(5):\n",
        "  print(i)"
      ],
      "metadata": {
        "id": "l4ftBxEUcOMO"
      },
      "execution_count": null,
      "outputs": []
    },
    {
      "cell_type": "code",
      "source": [
        "#indexing\n",
        "my_sub = \"Machine learning\"\n",
        "for i in range(len(my_sub)): #range(16)\n",
        "  print(my_sub[i], i)"
      ],
      "metadata": {
        "id": "G9_HFmEiccLl"
      },
      "execution_count": null,
      "outputs": []
    },
    {
      "cell_type": "code",
      "source": [
        "my_sub = \"Machine learning\"\n",
        "for i in range(-1, -(len(my_sub)+1), -1): #range(16)\n",
        "  print(my_sub[i], i)"
      ],
      "metadata": {
        "id": "rzNlq3lIeX2O"
      },
      "execution_count": null,
      "outputs": []
    },
    {
      "cell_type": "code",
      "source": [
        "#while loop --this loop execute upto condition is true\n",
        "i = 0 #initialization\n",
        "while i<5: #condition\n",
        "  print(i)\n",
        "  i+=1 #increment\n",
        "print(i)"
      ],
      "metadata": {
        "id": "-xX2CY1wIA_e"
      },
      "execution_count": null,
      "outputs": []
    },
    {
      "cell_type": "code",
      "source": [
        "#loop control statement\n",
        "i = 0\n",
        "while i<5:#condition\n",
        "  i+=1  #increment\n",
        "  if i ==3:\n",
        "    break  #break the loop\n",
        "    print(i)\n",
        "  else:\n",
        "    print(i)"
      ],
      "metadata": {
        "id": "6lALAh4tIh0F"
      },
      "execution_count": null,
      "outputs": []
    },
    {
      "cell_type": "code",
      "source": [
        "i = 0\n",
        "while i<5:#condition\n",
        "  i+=1  #increment\n",
        "  if i ==3:\n",
        "    continue  #skip the current iteration\n",
        "    print(i)\n",
        "  else:\n",
        "    print(i)"
      ],
      "metadata": {
        "id": "kSfXoWzJLk2H"
      },
      "execution_count": null,
      "outputs": []
    },
    {
      "cell_type": "code",
      "source": [
        "i = 0\n",
        "while i<5:#condition\n",
        "  i+=1  #increment\n",
        "  if i ==3:\n",
        "    pass  #it is does nothing only pass\n",
        "    print(i)\n",
        "  else:\n",
        "    print(i)"
      ],
      "metadata": {
        "id": "yYdB4hT_SCnD"
      },
      "execution_count": null,
      "outputs": []
    },
    {
      "cell_type": "code",
      "source": [
        "#user defined function\n",
        "def add(): #this function use addition of two number\n",
        "  a = int(input(\"Enter first number: \"))\n",
        "  b = int(input(\"Enter second number: \"))\n",
        "  c = a+b\n",
        "  print(c)\n",
        "  return c"
      ],
      "metadata": {
        "id": "dIAe4U71S3Fq"
      },
      "execution_count": null,
      "outputs": []
    },
    {
      "cell_type": "code",
      "source": [
        "print(add())"
      ],
      "metadata": {
        "id": "K9YA14_YTgPm"
      },
      "execution_count": null,
      "outputs": []
    },
    {
      "cell_type": "code",
      "source": [
        "#caculation of two number\n",
        "#positional arguments\n",
        "def calculation(a, b):\n",
        "  add = a+b\n",
        "  sub = a-b\n",
        "  mul = a*b\n",
        "  div = a/b\n",
        "  return add, sub, mul, div\n",
        "\n"
      ],
      "metadata": {
        "id": "hFYxJuoLTicz"
      },
      "execution_count": null,
      "outputs": []
    },
    {
      "cell_type": "code",
      "source": [
        "calculation(5, 10)"
      ],
      "metadata": {
        "id": "8DdSD0PrWH7j"
      },
      "execution_count": null,
      "outputs": []
    },
    {
      "cell_type": "code",
      "source": [
        "#default argument, this function use addition of two numbers\n",
        "def add(a = 20, b = 30):\n",
        "  c = a+b\n",
        "  return c\n"
      ],
      "metadata": {
        "id": "sTuynf4oWOrB"
      },
      "execution_count": null,
      "outputs": []
    },
    {
      "cell_type": "code",
      "source": [
        "print(add(90, 50))"
      ],
      "metadata": {
        "id": "T_eVO9-VpBe-"
      },
      "execution_count": null,
      "outputs": []
    },
    {
      "cell_type": "code",
      "source": [
        "#keyword argument\n",
        "def interest(p, r, t):\n",
        "  i = (p*r*t)/100\n",
        "  return i"
      ],
      "metadata": {
        "id": "jIWP91fGp0BF"
      },
      "execution_count": null,
      "outputs": []
    },
    {
      "cell_type": "code",
      "source": [
        "print(interest(t = 2, r = 10, p = 1000))"
      ],
      "metadata": {
        "id": "cKUa2O65p9Jv"
      },
      "execution_count": null,
      "outputs": []
    },
    {
      "cell_type": "code",
      "source": [
        "print(interest(1000, r = 10, t = 2))"
      ],
      "metadata": {
        "id": "cgPoQnQUqJK6"
      },
      "execution_count": null,
      "outputs": []
    },
    {
      "cell_type": "code",
      "source": [
        "print(interest(p = 1000, r = 10, 2))"
      ],
      "metadata": {
        "id": "9EZW3hajrl9B"
      },
      "execution_count": null,
      "outputs": []
    },
    {
      "cell_type": "code",
      "source": [
        "#variable length argument\n",
        "#non keyword variable length argument\n",
        "def test(*args):\n",
        "  print(args)\n",
        "  print(type(args))\n",
        "  print(len(args))"
      ],
      "metadata": {
        "id": "XHQ9Lvw-sIwX"
      },
      "execution_count": null,
      "outputs": []
    },
    {
      "cell_type": "code",
      "source": [
        "test(4, 6, 7, 8, 9, 3)"
      ],
      "metadata": {
        "id": "XTFsBGlEshDu"
      },
      "execution_count": null,
      "outputs": []
    },
    {
      "cell_type": "code",
      "source": [
        "def addition(*args):\n",
        "  sum = 0\n",
        "  for i in args:\n",
        "    sum+=i\n",
        "  return sum"
      ],
      "metadata": {
        "id": "ItCt9f5wskkJ"
      },
      "execution_count": null,
      "outputs": []
    },
    {
      "cell_type": "code",
      "source": [
        "addition(2, 3, 10, 20, 89, 78, 56, 45, 34)"
      ],
      "metadata": {
        "id": "CMqzazs9tlpa"
      },
      "execution_count": null,
      "outputs": []
    },
    {
      "cell_type": "code",
      "source": [
        "#keyword variable length arguments\n",
        "def test(**kwargs):\n",
        "  print(kwargs)\n",
        "  print(type(kwargs))\n",
        "  print(len(kwargs))"
      ],
      "metadata": {
        "id": "HZjP1yZvtnqT"
      },
      "execution_count": null,
      "outputs": []
    },
    {
      "cell_type": "code",
      "source": [
        "test(a = 10, b = 20, c = 30)"
      ],
      "metadata": {
        "id": "4CZei8pYvJnt"
      },
      "execution_count": null,
      "outputs": []
    },
    {
      "cell_type": "code",
      "source": [
        "def pass_students(**kwargs):\n",
        "  pass_student_list = []\n",
        "  for name, marks in kwargs.items():\n",
        "    if marks >= 35:\n",
        "      pass_student_list.append(name)\n",
        "  return pass_student_list"
      ],
      "metadata": {
        "id": "qLvDgoG1vx2l"
      },
      "execution_count": null,
      "outputs": []
    },
    {
      "cell_type": "code",
      "source": [
        "pass_students(A = 30, B = 78, C = 65, D = 23)"
      ],
      "metadata": {
        "id": "WVspswKuwV4B"
      },
      "execution_count": null,
      "outputs": []
    },
    {
      "cell_type": "code",
      "source": [
        "#how import numpy\n",
        "import numpy as np"
      ],
      "metadata": {
        "id": "ldoHrtpAO9id"
      },
      "execution_count": null,
      "outputs": []
    },
    {
      "cell_type": "code",
      "source": [
        "#one dimensional array\n",
        "oned_array = np.array([1, 4, 7])\n",
        "print(oned_array)"
      ],
      "metadata": {
        "id": "OEZCvgtQRB12"
      },
      "execution_count": null,
      "outputs": []
    },
    {
      "cell_type": "code",
      "source": [
        "#two dimensional array\n",
        "twod_array = np.array([[7, 8, 9],[4, 5, 6]])\n",
        "print(twod_array)"
      ],
      "metadata": {
        "id": "a8q5EjgVR4zH"
      },
      "execution_count": null,
      "outputs": []
    },
    {
      "cell_type": "code",
      "source": [
        "threed_array = np.array([[[8, 9, 6],[5, 4, 3]],\n",
        "                        [[9, 6, 5],[3, 4, 5]]])\n",
        "print(threed_array)"
      ],
      "metadata": {
        "id": "bbO9j-u5TuRU"
      },
      "execution_count": null,
      "outputs": []
    },
    {
      "cell_type": "code",
      "source": [
        "#array inspection\n",
        "oned_array = np.array([1, 4, 7])\n",
        "print(oned_array)"
      ],
      "metadata": {
        "id": "dlLmMWr2Jp0q"
      },
      "execution_count": null,
      "outputs": []
    },
    {
      "cell_type": "code",
      "source": [
        "#shape\n",
        "oned_array.shape"
      ],
      "metadata": {
        "id": "C4LTtM5JJw3f"
      },
      "execution_count": null,
      "outputs": []
    },
    {
      "cell_type": "code",
      "source": [
        "print(twod_array)"
      ],
      "metadata": {
        "id": "ZXmpZnyrJ0_q"
      },
      "execution_count": null,
      "outputs": []
    },
    {
      "cell_type": "code",
      "source": [
        "twod_array.shape"
      ],
      "metadata": {
        "id": "YqRK_IfNKBY8"
      },
      "execution_count": null,
      "outputs": []
    },
    {
      "cell_type": "code",
      "source": [
        "threed_array = np.array([[[8, 9, 6],[5, 4, 3]],\n",
        "                        [[9, 6, 5],[3, 4, 5]]])\n",
        "print(threed_array)"
      ],
      "metadata": {
        "id": "rLc3KU-5KEod"
      },
      "execution_count": null,
      "outputs": []
    },
    {
      "cell_type": "code",
      "source": [
        "threed_array.shape"
      ],
      "metadata": {
        "id": "Y10tzNNHLWOV"
      },
      "execution_count": null,
      "outputs": []
    },
    {
      "cell_type": "code",
      "source": [
        "# number of dimension of array\n",
        "threed_array.ndim"
      ],
      "metadata": {
        "id": "99FDlvf3LcQG"
      },
      "execution_count": null,
      "outputs": []
    },
    {
      "cell_type": "code",
      "source": [
        "#two dimensional array\n",
        "twod_array = np.array([[7, 8, 9],[4, 5, 6]])\n",
        "print(twod_array)\n",
        "twod_array.ndim"
      ],
      "metadata": {
        "id": "_h_UbufNM8Dq"
      },
      "execution_count": null,
      "outputs": []
    },
    {
      "cell_type": "code",
      "source": [
        "# how to find size of array\n",
        "twod_array.size"
      ],
      "metadata": {
        "id": "Pv1K2b9ONJLk"
      },
      "execution_count": null,
      "outputs": []
    },
    {
      "cell_type": "code",
      "source": [
        "#how to find data type of the array\n",
        "print(twod_array)\n",
        "twod_array.dtype"
      ],
      "metadata": {
        "id": "syN6Y0HuNeKU"
      },
      "execution_count": null,
      "outputs": []
    },
    {
      "cell_type": "code",
      "source": [
        "#how to change data type of array\n",
        "twod_array.astype(float)"
      ],
      "metadata": {
        "id": "p9Wh8Q0gN4CM"
      },
      "execution_count": null,
      "outputs": []
    },
    {
      "cell_type": "code",
      "source": [
        "#  how to create zero element array\n",
        "zeros_array = np.zeros((3, 4), dtype = int)\n",
        "print(zeros_array)"
      ],
      "metadata": {
        "id": "7z_9CxnvObxT"
      },
      "execution_count": null,
      "outputs": []
    },
    {
      "cell_type": "code",
      "source": [
        "ones_array = np.ones((3, 4), dtype = int)*100\n",
        "print(ones_array)"
      ],
      "metadata": {
        "id": "f-3Omdf4O_Za"
      },
      "execution_count": null,
      "outputs": []
    },
    {
      "cell_type": "code",
      "source": [
        "my_array = np.full((3, 4), 100)\n",
        "print(my_array)"
      ],
      "metadata": {
        "id": "VI_zskyBPtHE"
      },
      "execution_count": null,
      "outputs": []
    },
    {
      "cell_type": "code",
      "source": [],
      "metadata": {
        "id": "-7w0C8SxQKii"
      },
      "execution_count": null,
      "outputs": []
    }
  ]
}